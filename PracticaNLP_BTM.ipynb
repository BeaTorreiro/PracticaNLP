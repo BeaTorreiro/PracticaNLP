{
 "cells": [
  {
   "cell_type": "markdown",
   "metadata": {},
   "source": [
    "# Práctica NLP: Music Recommendation"
   ]
  },
  {
   "cell_type": "markdown",
   "metadata": {},
   "source": [
    "Beatriz Torreiro Mosquera"
   ]
  },
  {
   "cell_type": "markdown",
   "metadata": {},
   "source": [
    "### 1. Objetivo"
   ]
  },
  {
   "cell_type": "markdown",
   "metadata": {},
   "source": [
    "El objetivo de esta práctica es la creación de un sistema de recomendación de música utilizando el modelo predictivo Word2Vec."
   ]
  },
  {
   "cell_type": "code",
   "execution_count": 1,
   "metadata": {},
   "outputs": [],
   "source": [
    "import pandas as pd\n",
    "import numpy as np\n",
    "import gensim.models.word2vec as w2v\n",
    "import multiprocessing\n",
    "import os\n",
    "import re\n",
    "import pprint\n",
    "import sklearn.manifold\n",
    "import matplotlib.pyplot as plt"
   ]
  },
  {
   "cell_type": "markdown",
   "metadata": {},
   "source": [
    "### 2. Conjunto de datos"
   ]
  },
  {
   "cell_type": "markdown",
   "metadata": {},
   "source": [
    "El sistema de recomendación se va a realizar tomando como punto de partida las canciones de artistas de habla hispana recogidos en el dataset \"hhgroups_merge_28_05.csv\". Los campos incluidos en este dataset son: id, artista, cancion, album, letra, anyo, visitas."
   ]
  },
  {
   "cell_type": "markdown",
   "metadata": {},
   "source": [
    " - Lectura del conjunto de datos"
   ]
  },
  {
   "cell_type": "code",
   "execution_count": 2,
   "metadata": {},
   "outputs": [
    {
     "data": {
      "text/html": [
       "<div>\n",
       "<style scoped>\n",
       "    .dataframe tbody tr th:only-of-type {\n",
       "        vertical-align: middle;\n",
       "    }\n",
       "\n",
       "    .dataframe tbody tr th {\n",
       "        vertical-align: top;\n",
       "    }\n",
       "\n",
       "    .dataframe thead th {\n",
       "        text-align: right;\n",
       "    }\n",
       "</style>\n",
       "<table border=\"1\" class=\"dataframe\">\n",
       "  <thead>\n",
       "    <tr style=\"text-align: right;\">\n",
       "      <th></th>\n",
       "      <th>id</th>\n",
       "      <th>artista</th>\n",
       "      <th>cancion</th>\n",
       "      <th>album</th>\n",
       "      <th>letra</th>\n",
       "      <th>anyo</th>\n",
       "      <th>visitas</th>\n",
       "    </tr>\n",
       "  </thead>\n",
       "  <tbody>\n",
       "    <tr>\n",
       "      <th>0</th>\n",
       "      <td>0</td>\n",
       "      <td>Denom</td>\n",
       "      <td>Machete (con Jarfaiter y Gente jodida)</td>\n",
       "      <td>Medicina</td>\n",
       "      <td>Para su nuevo disco \"Medicina\", Denom ha vuelt...</td>\n",
       "      <td>2019</td>\n",
       "      <td>126</td>\n",
       "    </tr>\n",
       "    <tr>\n",
       "      <th>1</th>\n",
       "      <td>1</td>\n",
       "      <td>Denom</td>\n",
       "      <td>Vacío (con Ivo Incuerdo)</td>\n",
       "      <td>Medicina</td>\n",
       "      <td>[Denom]\\nYo que quería, yo que pedía vida,\\nSe...</td>\n",
       "      <td>2019</td>\n",
       "      <td>361</td>\n",
       "    </tr>\n",
       "    <tr>\n",
       "      <th>2</th>\n",
       "      <td>2</td>\n",
       "      <td>Denom</td>\n",
       "      <td>El orgullo es fiel (con Juancho Marqués y Elio...</td>\n",
       "      <td>Medicina</td>\n",
       "      <td>\"El orgullo es fiel\" es uno de los cortes incl...</td>\n",
       "      <td>2019</td>\n",
       "      <td>262</td>\n",
       "    </tr>\n",
       "    <tr>\n",
       "      <th>3</th>\n",
       "      <td>3</td>\n",
       "      <td>Denom</td>\n",
       "      <td>Mueve mueve (con Fernandocosta)</td>\n",
       "      <td>Medicina</td>\n",
       "      <td>[Estribillo: Denom] (x2)\\nMueve, mueve, mueve,...</td>\n",
       "      <td>2019</td>\n",
       "      <td>578</td>\n",
       "    </tr>\n",
       "    <tr>\n",
       "      <th>4</th>\n",
       "      <td>4</td>\n",
       "      <td>Jaro Desperdizio</td>\n",
       "      <td>Insomnia</td>\n",
       "      <td>Sin álbum, es un vídeo suelto</td>\n",
       "      <td>[Estribillo]\\nY en esta noche, ¿Quién me arrop...</td>\n",
       "      <td>2019</td>\n",
       "      <td>219</td>\n",
       "    </tr>\n",
       "  </tbody>\n",
       "</table>\n",
       "</div>"
      ],
      "text/plain": [
       "   id           artista                                            cancion  \\\n",
       "0   0             Denom             Machete (con Jarfaiter y Gente jodida)   \n",
       "1   1             Denom                           Vacío (con Ivo Incuerdo)   \n",
       "2   2             Denom  El orgullo es fiel (con Juancho Marqués y Elio...   \n",
       "3   3             Denom                    Mueve mueve (con Fernandocosta)   \n",
       "4   4  Jaro Desperdizio                                           Insomnia   \n",
       "\n",
       "                           album  \\\n",
       "0                       Medicina   \n",
       "1                       Medicina   \n",
       "2                       Medicina   \n",
       "3                       Medicina   \n",
       "4  Sin álbum, es un vídeo suelto   \n",
       "\n",
       "                                               letra  anyo  visitas  \n",
       "0  Para su nuevo disco \"Medicina\", Denom ha vuelt...  2019      126  \n",
       "1  [Denom]\\nYo que quería, yo que pedía vida,\\nSe...  2019      361  \n",
       "2  \"El orgullo es fiel\" es uno de los cortes incl...  2019      262  \n",
       "3  [Estribillo: Denom] (x2)\\nMueve, mueve, mueve,...  2019      578  \n",
       "4  [Estribillo]\\nY en esta noche, ¿Quién me arrop...  2019      219  "
      ]
     },
     "execution_count": 2,
     "metadata": {},
     "output_type": "execute_result"
    }
   ],
   "source": [
    "songs = pd.read_csv(\"data/hhgroups_merge_28_05.csv\", header=0)\n",
    "songs.head()"
   ]
  },
  {
   "cell_type": "code",
   "execution_count": 3,
   "metadata": {},
   "outputs": [
    {
     "name": "stdout",
     "output_type": "stream",
     "text": [
      "<class 'pandas.core.frame.DataFrame'>\n",
      "RangeIndex: 9325 entries, 0 to 9324\n",
      "Data columns (total 7 columns):\n",
      " #   Column   Non-Null Count  Dtype \n",
      "---  ------   --------------  ----- \n",
      " 0   id       9325 non-null   int64 \n",
      " 1   artista  9325 non-null   object\n",
      " 2   cancion  9325 non-null   object\n",
      " 3   album    9325 non-null   object\n",
      " 4   letra    9325 non-null   object\n",
      " 5   anyo     9325 non-null   int64 \n",
      " 6   visitas  9325 non-null   int64 \n",
      "dtypes: int64(3), object(4)\n",
      "memory usage: 510.1+ KB\n"
     ]
    }
   ],
   "source": [
    "songs.info()"
   ]
  },
  {
   "cell_type": "markdown",
   "metadata": {},
   "source": [
    "El dataset incluye información sobre 9325 canciones."
   ]
  },
  {
   "cell_type": "markdown",
   "metadata": {},
   "source": [
    "Si nos fijamos, la primera y la tercera canción, no contienen en el campo letra la información esperada, si no que aparece un mensaje indicando que no se posee esa información. El contenido exacto de la celda \"letra\" de la primera canción es el siguiente."
   ]
  },
  {
   "cell_type": "code",
   "execution_count": 4,
   "metadata": {},
   "outputs": [
    {
     "data": {
      "text/plain": [
       "'Para su nuevo disco \"Medicina\", Denom ha vuelto a contar con la colaboración vocal de Jarfaiter, con quién ya ha colaborado anteriormente en el tema \"Machete\"; corte en el que tambien participa el grupo Gente Jodida. De la instrumental se encarga NarcosBeats.\\n\\n\\n\\n\\n¿Tienes ya la letra para este tema? Ayúdanos y ¡Envíanosla!'"
      ]
     },
     "execution_count": 4,
     "metadata": {},
     "output_type": "execute_result"
    }
   ],
   "source": [
    "songs['letra'][0]"
   ]
  },
  {
   "cell_type": "markdown",
   "metadata": {},
   "source": [
    "Como el campo \"letra\" va a ser el utilizado para la entrenar el modelo Word2Vec, es importante que este contenga información limpia y relevante. Por ese motivo se van a realizar los siguiente cambios en el dataset con el objetivo de limpiarlo:\n",
    "   - Eliminar las entradas que no tienen letra."
   ]
  },
  {
   "cell_type": "code",
   "execution_count": 5,
   "metadata": {},
   "outputs": [],
   "source": [
    "songs = songs[~songs.letra.str.contains(\"¿Tienes ya la letra para este tema?\")]"
   ]
  },
  {
   "cell_type": "markdown",
   "metadata": {},
   "source": [
    "   - Eliminar de las letras todo el texto contenido entre paréntesis, ya que suele indicar que la estrofa siguiente es un estribillo o el artista que la canta."
   ]
  },
  {
   "cell_type": "code",
   "execution_count": 6,
   "metadata": {},
   "outputs": [],
   "source": [
    "songs['letra'] = songs['letra'].str.replace(r'\\[(.*?)\\]','')"
   ]
  },
  {
   "cell_type": "markdown",
   "metadata": {},
   "source": [
    " - Eliminar el contenido dentro de paréntesis, hace referencia al número de repeticiones de una estrofa."
   ]
  },
  {
   "cell_type": "code",
   "execution_count": 7,
   "metadata": {},
   "outputs": [],
   "source": [
    "songs['letra'] = songs['letra'].str.replace(r'\\((.*?)\\)','')"
   ]
  },
  {
   "cell_type": "markdown",
   "metadata": {},
   "source": [
    " - Eliminar el símbolo de retorno de carro \"\\n\"."
   ]
  },
  {
   "cell_type": "code",
   "execution_count": 8,
   "metadata": {},
   "outputs": [],
   "source": [
    "songs['letra'] = songs['letra'].str.replace(r'\\n',' ')"
   ]
  },
  {
   "cell_type": "markdown",
   "metadata": {},
   "source": [
    " - Eliminar los símbolos extraños, nos quedamos sólo con las letras."
   ]
  },
  {
   "cell_type": "code",
   "execution_count": 9,
   "metadata": {},
   "outputs": [],
   "source": [
    "songs['letra'] = songs['letra'].str.replace(r'[^a-zA-ZáíéúóÁÉÍÓÚ ]','')"
   ]
  },
  {
   "cell_type": "markdown",
   "metadata": {},
   "source": [
    " - Se pasan todas las palabras a minúsculas para que no se cuenten por separado dos versiones de una misma palabra."
   ]
  },
  {
   "cell_type": "code",
   "execution_count": 10,
   "metadata": {},
   "outputs": [
    {
     "data": {
      "text/html": [
       "<div>\n",
       "<style scoped>\n",
       "    .dataframe tbody tr th:only-of-type {\n",
       "        vertical-align: middle;\n",
       "    }\n",
       "\n",
       "    .dataframe tbody tr th {\n",
       "        vertical-align: top;\n",
       "    }\n",
       "\n",
       "    .dataframe thead th {\n",
       "        text-align: right;\n",
       "    }\n",
       "</style>\n",
       "<table border=\"1\" class=\"dataframe\">\n",
       "  <thead>\n",
       "    <tr style=\"text-align: right;\">\n",
       "      <th></th>\n",
       "      <th>id</th>\n",
       "      <th>artista</th>\n",
       "      <th>cancion</th>\n",
       "      <th>album</th>\n",
       "      <th>letra</th>\n",
       "      <th>anyo</th>\n",
       "      <th>visitas</th>\n",
       "    </tr>\n",
       "  </thead>\n",
       "  <tbody>\n",
       "    <tr>\n",
       "      <th>1</th>\n",
       "      <td>1</td>\n",
       "      <td>Denom</td>\n",
       "      <td>Vacío (con Ivo Incuerdo)</td>\n",
       "      <td>Medicina</td>\n",
       "      <td>Yo que quería yo que pedía vida Se partió por...</td>\n",
       "      <td>2019</td>\n",
       "      <td>361</td>\n",
       "    </tr>\n",
       "    <tr>\n",
       "      <th>3</th>\n",
       "      <td>3</td>\n",
       "      <td>Denom</td>\n",
       "      <td>Mueve mueve (con Fernandocosta)</td>\n",
       "      <td>Medicina</td>\n",
       "      <td>Mueve mueve mueve Ya no hay tiempo que perde...</td>\n",
       "      <td>2019</td>\n",
       "      <td>578</td>\n",
       "    </tr>\n",
       "    <tr>\n",
       "      <th>4</th>\n",
       "      <td>4</td>\n",
       "      <td>Jaro Desperdizio</td>\n",
       "      <td>Insomnia</td>\n",
       "      <td>Sin álbum, es un vídeo suelto</td>\n",
       "      <td>Y en esta noche Quién me arropará Si el invie...</td>\n",
       "      <td>2019</td>\n",
       "      <td>219</td>\n",
       "    </tr>\n",
       "    <tr>\n",
       "      <th>5</th>\n",
       "      <td>5</td>\n",
       "      <td>Khan</td>\n",
       "      <td>Lobo</td>\n",
       "      <td>Sin álbum, es un vídeo suelto</td>\n",
       "      <td>Que nadie creía en leyends hasta que llegué yo...</td>\n",
       "      <td>2019</td>\n",
       "      <td>683</td>\n",
       "    </tr>\n",
       "    <tr>\n",
       "      <th>6</th>\n",
       "      <td>6</td>\n",
       "      <td>Dyo</td>\n",
       "      <td>Claridad [Productor desconocido]</td>\n",
       "      <td>Sin álbum, es un tema suelto</td>\n",
       "      <td>Me olvidé tomarme la pastilla otra vez Estará ...</td>\n",
       "      <td>2019</td>\n",
       "      <td>58</td>\n",
       "    </tr>\n",
       "  </tbody>\n",
       "</table>\n",
       "</div>"
      ],
      "text/plain": [
       "   id           artista                           cancion  \\\n",
       "1   1             Denom          Vacío (con Ivo Incuerdo)   \n",
       "3   3             Denom   Mueve mueve (con Fernandocosta)   \n",
       "4   4  Jaro Desperdizio                          Insomnia   \n",
       "5   5              Khan                              Lobo   \n",
       "6   6               Dyo  Claridad [Productor desconocido]   \n",
       "\n",
       "                           album  \\\n",
       "1                       Medicina   \n",
       "3                       Medicina   \n",
       "4  Sin álbum, es un vídeo suelto   \n",
       "5  Sin álbum, es un vídeo suelto   \n",
       "6   Sin álbum, es un tema suelto   \n",
       "\n",
       "                                               letra  anyo  visitas  \n",
       "1   Yo que quería yo que pedía vida Se partió por...  2019      361  \n",
       "3    Mueve mueve mueve Ya no hay tiempo que perde...  2019      578  \n",
       "4   Y en esta noche Quién me arropará Si el invie...  2019      219  \n",
       "5  Que nadie creía en leyends hasta que llegué yo...  2019      683  \n",
       "6  Me olvidé tomarme la pastilla otra vez Estará ...  2019       58  "
      ]
     },
     "execution_count": 10,
     "metadata": {},
     "output_type": "execute_result"
    }
   ],
   "source": [
    "songs.head()"
   ]
  },
  {
   "cell_type": "code",
   "execution_count": null,
   "metadata": {},
   "outputs": [],
   "source": []
  }
 ],
 "metadata": {
  "kernelspec": {
   "display_name": "nlp",
   "language": "python",
   "name": "nlp"
  },
  "language_info": {
   "codemirror_mode": {
    "name": "ipython",
    "version": 3
   },
   "file_extension": ".py",
   "mimetype": "text/x-python",
   "name": "python",
   "nbconvert_exporter": "python",
   "pygments_lexer": "ipython3",
   "version": "3.6.10"
  }
 },
 "nbformat": 4,
 "nbformat_minor": 4
}
